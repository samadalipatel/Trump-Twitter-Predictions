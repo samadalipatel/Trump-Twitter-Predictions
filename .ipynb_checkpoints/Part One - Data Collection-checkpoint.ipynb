{
 "cells": [
  {
   "cell_type": "markdown",
   "metadata": {},
   "source": [
    "# Summary\n",
    "\n",
    "This document contains all steps in this project relevant to the data collection process. \n",
    "\n",
    "I will need to consider different data sources, the information they provide, and the drawbacks of each source. Then I will proceed to choose one and continue onward with the project. "
   ]
  },
  {
   "cell_type": "markdown",
   "metadata": {},
   "source": [
    "# Source 1: Trump Twitter Archive\n",
    "\n",
    "The archive (http://www.trumptwitterarchive.com) contains every single one of Trump's tweets ever made - including those he deletes. The pro of this source is that it's extremely easy to access. Cons are that there's no exact way of telling if a tweet was deleted, and there are potentially fewer features than scraping directly from Twitter. \n",
    "\n",
    "Here's what data from the archive looks like (data is taken from a previous project). "
   ]
  },
  {
   "cell_type": "code",
   "execution_count": 1,
   "metadata": {},
   "outputs": [],
   "source": [
    "# Load relevant packages \n",
    "import numpy as np\n",
    "import pandas as pd\n",
    "import tweepy \n",
    "import json"
   ]
  },
  {
   "cell_type": "code",
   "execution_count": 2,
   "metadata": {},
   "outputs": [
    {
     "data": {
      "text/html": [
       "<div>\n",
       "<style scoped>\n",
       "    .dataframe tbody tr th:only-of-type {\n",
       "        vertical-align: middle;\n",
       "    }\n",
       "\n",
       "    .dataframe tbody tr th {\n",
       "        vertical-align: top;\n",
       "    }\n",
       "\n",
       "    .dataframe thead th {\n",
       "        text-align: right;\n",
       "    }\n",
       "</style>\n",
       "<table border=\"1\" class=\"dataframe\">\n",
       "  <thead>\n",
       "    <tr style=\"text-align: right;\">\n",
       "      <th></th>\n",
       "      <th>source</th>\n",
       "      <th>text</th>\n",
       "      <th>created_at</th>\n",
       "      <th>retweet_count</th>\n",
       "      <th>favorite_count</th>\n",
       "      <th>is_retweet</th>\n",
       "      <th>id_str</th>\n",
       "    </tr>\n",
       "  </thead>\n",
       "  <tbody>\n",
       "    <tr>\n",
       "      <th>0</th>\n",
       "      <td>Twitter for iPhone</td>\n",
       "      <td>Jenna Ellis  ÒFBI thought they wouldnÕt get ca...</td>\n",
       "      <td>8/9/18 22:50</td>\n",
       "      <td>26667.0</td>\n",
       "      <td>98925.0</td>\n",
       "      <td>False</td>\n",
       "      <td>1.027690e+18</td>\n",
       "    </tr>\n",
       "    <tr>\n",
       "      <th>1</th>\n",
       "      <td>Twitter for iPhone</td>\n",
       "      <td>@LindseyGrahamSC  ÒWhy didnÕt the FBI tell Pre...</td>\n",
       "      <td>8/9/18 19:43</td>\n",
       "      <td>5966.0</td>\n",
       "      <td>12205.0</td>\n",
       "      <td>False</td>\n",
       "      <td>1.027640e+18</td>\n",
       "    </tr>\n",
       "    <tr>\n",
       "      <th>2</th>\n",
       "      <td>Twitter for iPhone</td>\n",
       "      <td>Congressman Ted Yoho of Florida is doing a fan...</td>\n",
       "      <td>8/9/18 17:00</td>\n",
       "      <td>16838.0</td>\n",
       "      <td>69806.0</td>\n",
       "      <td>False</td>\n",
       "      <td>1.027600e+18</td>\n",
       "    </tr>\n",
       "    <tr>\n",
       "      <th>3</th>\n",
       "      <td>Twitter for iPhone</td>\n",
       "      <td>Space Force all the way!</td>\n",
       "      <td>8/9/18 16:03</td>\n",
       "      <td>35382.0</td>\n",
       "      <td>131769.0</td>\n",
       "      <td>False</td>\n",
       "      <td>1.027590e+18</td>\n",
       "    </tr>\n",
       "    <tr>\n",
       "      <th>4</th>\n",
       "      <td>Twitter for iPhone</td>\n",
       "      <td>This is an illegally brought Rigged Witch Hunt...</td>\n",
       "      <td>8/9/18 16:02</td>\n",
       "      <td>24439.0</td>\n",
       "      <td>91267.0</td>\n",
       "      <td>False</td>\n",
       "      <td>1.027590e+18</td>\n",
       "    </tr>\n",
       "  </tbody>\n",
       "</table>\n",
       "</div>"
      ],
      "text/plain": [
       "               source                                               text  \\\n",
       "0  Twitter for iPhone  Jenna Ellis  ÒFBI thought they wouldnÕt get ca...   \n",
       "1  Twitter for iPhone  @LindseyGrahamSC  ÒWhy didnÕt the FBI tell Pre...   \n",
       "2  Twitter for iPhone  Congressman Ted Yoho of Florida is doing a fan...   \n",
       "3  Twitter for iPhone                           Space Force all the way!   \n",
       "4  Twitter for iPhone  This is an illegally brought Rigged Witch Hunt...   \n",
       "\n",
       "     created_at  retweet_count  favorite_count is_retweet        id_str  \n",
       "0  8/9/18 22:50        26667.0         98925.0      False  1.027690e+18  \n",
       "1  8/9/18 19:43         5966.0         12205.0      False  1.027640e+18  \n",
       "2  8/9/18 17:00        16838.0         69806.0      False  1.027600e+18  \n",
       "3  8/9/18 16:03        35382.0        131769.0      False  1.027590e+18  \n",
       "4  8/9/18 16:02        24439.0         91267.0      False  1.027590e+18  "
      ]
     },
     "execution_count": 2,
     "metadata": {},
     "output_type": "execute_result"
    }
   ],
   "source": [
    "archive = pd.read_csv('archive_tweets.csv', encoding = 'ISO-8859-1')\n",
    "archive.head()"
   ]
  },
  {
   "cell_type": "markdown",
   "metadata": {},
   "source": [
    "# Source 2: Twitter API\n",
    "\n",
    "Pro of this source is that there is potentially more information that can be used for later feature engineering. Furthermore, it only contains tweets Trump didn't decide to delete. Con is that it's more clunky to collect and organize the data. We'll do so now. "
   ]
  },
  {
   "cell_type": "code",
   "execution_count": 3,
   "metadata": {},
   "outputs": [],
   "source": [
    "# Twitter API credentials\n",
    "consumer_key = \"\"\n",
    "consumer_secret = \"\"\n",
    "access_key = \"\"\n",
    "access_secret = \"\"\n",
    "\n",
    "# Authorize twitter, initialize tweepy\n",
    "auth = tweepy.OAuthHandler(consumer_key, consumer_secret)\n",
    "auth.set_access_token(access_key, access_secret)\n",
    "api = tweepy.API(auth)\n",
    "\n",
    "# Collect tweets\n",
    "tweets = api.user_timeline(screen_name = 'realDonaldTrump', count = 200,  tweet_mode = \"extended\", include_rts = False)"
   ]
  },
  {
   "cell_type": "markdown",
   "metadata": {},
   "source": [
    "The above code collected the latest 200 tweets from Trump's account. Let's take a look at what keys we have. "
   ]
  },
  {
   "cell_type": "code",
   "execution_count": 4,
   "metadata": {
    "scrolled": true
   },
   "outputs": [
    {
     "name": "stdout",
     "output_type": "stream",
     "text": [
      "['created_at', 'id', 'id_str', 'full_text', 'truncated', 'display_text_range', 'entities', 'extended_entities', 'source', 'in_reply_to_status_id', 'in_reply_to_status_id_str', 'in_reply_to_user_id', 'in_reply_to_user_id_str', 'in_reply_to_screen_name', 'user', 'geo', 'coordinates', 'place', 'contributors', 'is_quote_status', 'retweet_count', 'favorite_count', 'favorited', 'retweeted', 'possibly_sensitive', 'lang']\n"
     ]
    }
   ],
   "source": [
    "json_tweet = tweets[3]._json\n",
    "primary_keys = []\n",
    "for key, value in json_tweet.items():\n",
    "    primary_keys.append(key)\n",
    "print(primary_keys)"
   ]
  },
  {
   "cell_type": "markdown",
   "metadata": {},
   "source": [
    "Let's take a look at the secondary keys for each given primary key. "
   ]
  },
  {
   "cell_type": "code",
   "execution_count": 5,
   "metadata": {
    "scrolled": false
   },
   "outputs": [
    {
     "name": "stdout",
     "output_type": "stream",
     "text": [
      "{'entities': ['hashtags', 'symbols', 'user_mentions', 'urls', 'media']} \n",
      "\n",
      "{'extended_entities': ['media']} \n",
      "\n",
      "{'user': ['id', 'id_str', 'name', 'screen_name', 'location', 'description', 'url', 'entities', 'protected', 'followers_count', 'friends_count', 'listed_count', 'created_at', 'favourites_count', 'utc_offset', 'time_zone', 'geo_enabled', 'verified', 'statuses_count', 'lang', 'contributors_enabled', 'is_translator', 'is_translation_enabled', 'profile_background_color', 'profile_background_image_url', 'profile_background_image_url_https', 'profile_background_tile', 'profile_image_url', 'profile_image_url_https', 'profile_banner_url', 'profile_link_color', 'profile_sidebar_border_color', 'profile_sidebar_fill_color', 'profile_text_color', 'profile_use_background_image', 'has_extended_profile', 'default_profile', 'default_profile_image', 'following', 'follow_request_sent', 'notifications', 'translator_type']} \n",
      "\n"
     ]
    }
   ],
   "source": [
    "# For each primary key \n",
    "for prim_key in primary_keys:\n",
    "    # Create empty vector \n",
    "    secondary_keys = []\n",
    "    # If there's more data nested\n",
    "    if type(json_tweet[prim_key]) == dict:\n",
    "        \n",
    "        # Append the keys of that data to secondary_keys\n",
    "        for key, value in json_tweet[prim_key].items():\n",
    "            secondary_keys.append(key)\n",
    "        print(dict({prim_key: secondary_keys}), '\\n')"
   ]
  },
  {
   "cell_type": "markdown",
   "metadata": {},
   "source": [
    "The user info isn't helpful since it would be the same info for each tweet. Entities is. "
   ]
  },
  {
   "cell_type": "code",
   "execution_count": 6,
   "metadata": {},
   "outputs": [],
   "source": [
    "df = pd.DataFrame([[tweet.id, tweet.created_at, tweet.full_text, tweet.retweet_count, tweet.favorite_count, \n",
    "                    tweet.entities['hashtags'], tweet.entities['symbols'], tweet.entities['user_mentions'], \n",
    "                    tweet.entities['urls'], tweet.source, tweet.display_text_range, tweet.in_reply_to_screen_name, \n",
    "                    tweet.in_reply_to_status_id] for tweet in tweets], \n",
    "                 columns = ['id', 'time', 'text', 'retweet_count', 'favorite_count', 'hashtags', 'symbols', \n",
    "                            'user_mentions', 'urls', 'source', 'length', 'in_reply_to_screen_name', \n",
    "                            'in_reply_to_status_id'])"
   ]
  },
  {
   "cell_type": "code",
   "execution_count": 7,
   "metadata": {
    "scrolled": true
   },
   "outputs": [
    {
     "data": {
      "text/html": [
       "<div>\n",
       "<style scoped>\n",
       "    .dataframe tbody tr th:only-of-type {\n",
       "        vertical-align: middle;\n",
       "    }\n",
       "\n",
       "    .dataframe tbody tr th {\n",
       "        vertical-align: top;\n",
       "    }\n",
       "\n",
       "    .dataframe thead th {\n",
       "        text-align: right;\n",
       "    }\n",
       "</style>\n",
       "<table border=\"1\" class=\"dataframe\">\n",
       "  <thead>\n",
       "    <tr style=\"text-align: right;\">\n",
       "      <th></th>\n",
       "      <th>id</th>\n",
       "      <th>time</th>\n",
       "      <th>text</th>\n",
       "      <th>retweet_count</th>\n",
       "      <th>favorite_count</th>\n",
       "      <th>hashtags</th>\n",
       "      <th>symbols</th>\n",
       "      <th>user_mentions</th>\n",
       "      <th>urls</th>\n",
       "      <th>source</th>\n",
       "      <th>length</th>\n",
       "      <th>in_reply_to_screen_name</th>\n",
       "      <th>in_reply_to_status_id</th>\n",
       "    </tr>\n",
       "  </thead>\n",
       "  <tbody>\n",
       "    <tr>\n",
       "      <th>0</th>\n",
       "      <td>1045832351211835392</td>\n",
       "      <td>2018-09-29 00:27:17</td>\n",
       "      <td>Just started, tonight, our 7th FBI investigati...</td>\n",
       "      <td>24656</td>\n",
       "      <td>100135</td>\n",
       "      <td>[]</td>\n",
       "      <td>[]</td>\n",
       "      <td>[]</td>\n",
       "      <td>[]</td>\n",
       "      <td>Twitter for iPhone</td>\n",
       "      <td>[0, 165]</td>\n",
       "      <td>None</td>\n",
       "      <td>NaN</td>\n",
       "    </tr>\n",
       "    <tr>\n",
       "      <th>1</th>\n",
       "      <td>1045444544068812800</td>\n",
       "      <td>2018-09-27 22:46:17</td>\n",
       "      <td>Judge Kavanaugh showed America exactly why I n...</td>\n",
       "      <td>81975</td>\n",
       "      <td>303688</td>\n",
       "      <td>[]</td>\n",
       "      <td>[]</td>\n",
       "      <td>[]</td>\n",
       "      <td>[]</td>\n",
       "      <td>Twitter for iPhone</td>\n",
       "      <td>[0, 267]</td>\n",
       "      <td>None</td>\n",
       "      <td>NaN</td>\n",
       "    </tr>\n",
       "    <tr>\n",
       "      <th>2</th>\n",
       "      <td>1045098909352235008</td>\n",
       "      <td>2018-09-26 23:52:51</td>\n",
       "      <td>https://t.co/9o5gZlJiTd</td>\n",
       "      <td>16321</td>\n",
       "      <td>72168</td>\n",
       "      <td>[]</td>\n",
       "      <td>[]</td>\n",
       "      <td>[]</td>\n",
       "      <td>[]</td>\n",
       "      <td>Twitter for iPhone</td>\n",
       "      <td>[0, 0]</td>\n",
       "      <td>None</td>\n",
       "      <td>NaN</td>\n",
       "    </tr>\n",
       "    <tr>\n",
       "      <th>3</th>\n",
       "      <td>1045052439521624067</td>\n",
       "      <td>2018-09-26 20:48:12</td>\n",
       "      <td>Join me this Saturday in Wheeling, West Virgin...</td>\n",
       "      <td>13274</td>\n",
       "      <td>48531</td>\n",
       "      <td>[]</td>\n",
       "      <td>[]</td>\n",
       "      <td>[]</td>\n",
       "      <td>[{'url': 'https://t.co/JyRaBps0eR', 'expanded_...</td>\n",
       "      <td>Twitter for iPhone</td>\n",
       "      <td>[0, 90]</td>\n",
       "      <td>None</td>\n",
       "      <td>NaN</td>\n",
       "    </tr>\n",
       "    <tr>\n",
       "      <th>4</th>\n",
       "      <td>1045003711104331776</td>\n",
       "      <td>2018-09-26 17:34:34</td>\n",
       "      <td>Congressman Lee Zeldin is doing a fantastic jo...</td>\n",
       "      <td>14291</td>\n",
       "      <td>62664</td>\n",
       "      <td>[]</td>\n",
       "      <td>[]</td>\n",
       "      <td>[]</td>\n",
       "      <td>[]</td>\n",
       "      <td>Twitter for iPhone</td>\n",
       "      <td>[0, 183]</td>\n",
       "      <td>None</td>\n",
       "      <td>NaN</td>\n",
       "    </tr>\n",
       "  </tbody>\n",
       "</table>\n",
       "</div>"
      ],
      "text/plain": [
       "                    id                time  \\\n",
       "0  1045832351211835392 2018-09-29 00:27:17   \n",
       "1  1045444544068812800 2018-09-27 22:46:17   \n",
       "2  1045098909352235008 2018-09-26 23:52:51   \n",
       "3  1045052439521624067 2018-09-26 20:48:12   \n",
       "4  1045003711104331776 2018-09-26 17:34:34   \n",
       "\n",
       "                                                text  retweet_count  \\\n",
       "0  Just started, tonight, our 7th FBI investigati...          24656   \n",
       "1  Judge Kavanaugh showed America exactly why I n...          81975   \n",
       "2                            https://t.co/9o5gZlJiTd          16321   \n",
       "3  Join me this Saturday in Wheeling, West Virgin...          13274   \n",
       "4  Congressman Lee Zeldin is doing a fantastic jo...          14291   \n",
       "\n",
       "   favorite_count hashtags symbols user_mentions  \\\n",
       "0          100135       []      []            []   \n",
       "1          303688       []      []            []   \n",
       "2           72168       []      []            []   \n",
       "3           48531       []      []            []   \n",
       "4           62664       []      []            []   \n",
       "\n",
       "                                                urls              source  \\\n",
       "0                                                 []  Twitter for iPhone   \n",
       "1                                                 []  Twitter for iPhone   \n",
       "2                                                 []  Twitter for iPhone   \n",
       "3  [{'url': 'https://t.co/JyRaBps0eR', 'expanded_...  Twitter for iPhone   \n",
       "4                                                 []  Twitter for iPhone   \n",
       "\n",
       "     length in_reply_to_screen_name  in_reply_to_status_id  \n",
       "0  [0, 165]                    None                    NaN  \n",
       "1  [0, 267]                    None                    NaN  \n",
       "2    [0, 0]                    None                    NaN  \n",
       "3   [0, 90]                    None                    NaN  \n",
       "4  [0, 183]                    None                    NaN  "
      ]
     },
     "execution_count": 7,
     "metadata": {},
     "output_type": "execute_result"
    }
   ],
   "source": [
    "df.head()"
   ]
  },
  {
   "cell_type": "markdown",
   "metadata": {},
   "source": [
    "It is clear we can access far more information from the twitter API directly. Unfortunately, I only just now found that the twitter API allows us to retrieve the last 3200 tweets only. So we're going to have to rely on Source 1. Thankfully, nearly all the additional variables I was going to use can be created from the existing ones. Ultimately, it was helpful to see what the API generates, as that informs the kind of features I can create.  "
   ]
  }
 ],
 "metadata": {
  "kernelspec": {
   "display_name": "Python 3",
   "language": "python",
   "name": "python3"
  },
  "language_info": {
   "codemirror_mode": {
    "name": "ipython",
    "version": 3
   },
   "file_extension": ".py",
   "mimetype": "text/x-python",
   "name": "python",
   "nbconvert_exporter": "python",
   "pygments_lexer": "ipython3",
   "version": "3.6.5"
  }
 },
 "nbformat": 4,
 "nbformat_minor": 2
}
